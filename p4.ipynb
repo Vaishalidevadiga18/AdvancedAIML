{
 "cells": [
  {
   "cell_type": "code",
   "execution_count": 1,
   "id": "25e9859e",
   "metadata": {},
   "outputs": [
    {
     "name": "stdout",
     "output_type": "stream",
     "text": [
      "Prediction Results:\n",
      "\n",
      "Correct: Predicted = versicolor, Actual = versicolor\n",
      "Correct: Predicted = setosa, Actual = setosa\n",
      "Correct: Predicted = virginica, Actual = virginica\n",
      "Correct: Predicted = versicolor, Actual = versicolor\n",
      "Correct: Predicted = versicolor, Actual = versicolor\n",
      "Correct: Predicted = setosa, Actual = setosa\n",
      "Correct: Predicted = versicolor, Actual = versicolor\n",
      "Correct: Predicted = virginica, Actual = virginica\n",
      "Correct: Predicted = versicolor, Actual = versicolor\n",
      "Correct: Predicted = versicolor, Actual = versicolor\n",
      "Correct: Predicted = virginica, Actual = virginica\n",
      "Correct: Predicted = setosa, Actual = setosa\n",
      "Correct: Predicted = setosa, Actual = setosa\n",
      "Correct: Predicted = setosa, Actual = setosa\n",
      "Correct: Predicted = setosa, Actual = setosa\n",
      "Correct: Predicted = versicolor, Actual = versicolor\n",
      "Correct: Predicted = virginica, Actual = virginica\n",
      "Correct: Predicted = versicolor, Actual = versicolor\n",
      "Correct: Predicted = versicolor, Actual = versicolor\n",
      "Correct: Predicted = virginica, Actual = virginica\n",
      "Correct: Predicted = setosa, Actual = setosa\n",
      "Correct: Predicted = virginica, Actual = virginica\n",
      "Correct: Predicted = setosa, Actual = setosa\n",
      "Correct: Predicted = virginica, Actual = virginica\n",
      "Correct: Predicted = virginica, Actual = virginica\n",
      "Correct: Predicted = virginica, Actual = virginica\n",
      "Correct: Predicted = virginica, Actual = virginica\n",
      "Correct: Predicted = virginica, Actual = virginica\n",
      "Correct: Predicted = setosa, Actual = setosa\n",
      "Correct: Predicted = setosa, Actual = setosa\n",
      "Correct: Predicted = setosa, Actual = setosa\n",
      "Correct: Predicted = setosa, Actual = setosa\n",
      "Correct: Predicted = versicolor, Actual = versicolor\n",
      "Correct: Predicted = setosa, Actual = setosa\n",
      "Correct: Predicted = setosa, Actual = setosa\n",
      "Correct: Predicted = virginica, Actual = virginica\n",
      "Correct: Predicted = versicolor, Actual = versicolor\n",
      "Correct: Predicted = setosa, Actual = setosa\n",
      "Correct: Predicted = setosa, Actual = setosa\n",
      "Correct: Predicted = setosa, Actual = setosa\n",
      "Correct: Predicted = virginica, Actual = virginica\n",
      "Correct: Predicted = versicolor, Actual = versicolor\n",
      "Correct: Predicted = versicolor, Actual = versicolor\n",
      "Correct: Predicted = setosa, Actual = setosa\n",
      "Correct: Predicted = setosa, Actual = setosa\n"
     ]
    }
   ],
   "source": [
    "\n",
    "from sklearn.datasets import load_iris\n",
    "from sklearn.model_selection import train_test_split\n",
    "from sklearn.neighbors import KNeighborsClassifier\n",
    "iris = load_iris()\n",
    "X = iris.data\n",
    "y = iris.target\n",
    "target_names = iris.target_names\n",
    "X_train, X_test, y_train, y_test = train_test_split(X, y, test_size=0.3, random_state=42)\n",
    "k = 5\n",
    "knn = KNeighborsClassifier(n_neighbors=k)\n",
    "knn.fit(X_train, y_train)\n",
    "y_pred = knn.predict(X_test)\n",
    "print(\"Prediction Results:\\n\")\n",
    "for i in range(len(y_test)):\n",
    " actual = target_names[y_test[i]]\n",
    " predicted = target_names[y_pred[i]]\n",
    " if y_test[i] == y_pred[i]:\n",
    "    print(f\"Correct: Predicted = {predicted}, Actual = {actual}\")\n",
    " else:\n",
    "    print(f\"Wrong: Predicted = {predicted}, Actual = {actual}\")"
   ]
  }
 ],
 "metadata": {
  "kernelspec": {
   "display_name": "Python 3",
   "language": "python",
   "name": "python3"
  },
  "language_info": {
   "codemirror_mode": {
    "name": "ipython",
    "version": 3
   },
   "file_extension": ".py",
   "mimetype": "text/x-python",
   "name": "python",
   "nbconvert_exporter": "python",
   "pygments_lexer": "ipython3",
   "version": "3.10.0"
  }
 },
 "nbformat": 4,
 "nbformat_minor": 5
}
